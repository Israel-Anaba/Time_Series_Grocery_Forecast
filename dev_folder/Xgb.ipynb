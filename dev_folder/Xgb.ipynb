{
 "cells": [
  {
   "cell_type": "markdown",
   "metadata": {},
   "source": [
    "## Importation"
   ]
  },
  {
   "cell_type": "code",
   "execution_count": 241,
   "metadata": {},
   "outputs": [],
   "source": [
    "# Data manipulation and analysis\n",
    "import pandas as pd\n",
    "import numpy as np\n",
    "\n",
    "# Data visualization\n",
    "import matplotlib.pyplot as plt\n",
    "import seaborn as sns\n",
    "\n",
    "# Time series analysis\n",
    "from statsmodels.tsa.seasonal import seasonal_decompose\n",
    "from statsmodels.tsa.stattools import adfuller\n",
    "from statsmodels.graphics.tsaplots import plot_acf, plot_pacf\n",
    "\n",
    "# Feature engineering\n",
    "from sklearn.preprocessing import StandardScaler\n",
    "\n",
    "# Machine learning models\n",
    "from sklearn.model_selection import train_test_split\n",
    "from sklearn.ensemble import RandomForestRegressor  \n",
    "from xgboost import XGBRegressor  \n",
    "\n",
    "# Model evaluation\n",
    "from sklearn.metrics import mean_absolute_error, mean_squared_error\n",
    "\n",
    "# Hyperparameter tuning\n",
    "from sklearn.model_selection import GridSearchCV\n",
    "\n",
    "# Time series-specific models\n",
    "from statsmodels.tsa.statespace.sarimax import SARIMAX\n",
    "\n",
    "\n",
    "# Other utilities\n",
    "from datetime import datetime\n",
    "import os\n",
    "\n",
    "\n",
    "# Ignore warnings\n",
    "import warnings\n",
    "warnings.filterwarnings('ignore')\n",
    "\n"
   ]
  },
  {
   "cell_type": "code",
   "execution_count": 242,
   "metadata": {},
   "outputs": [],
   "source": [
    "train = pd.read_csv('../Assets/train.csv')"
   ]
  },
  {
   "cell_type": "markdown",
   "metadata": {},
   "source": [
    "### Data Understanding"
   ]
  },
  {
   "cell_type": "code",
   "execution_count": 243,
   "metadata": {},
   "outputs": [
    {
     "name": "stdout",
     "output_type": "stream",
     "text": [
      "[ 365  366  367 ... 1624 1625 1626]\n"
     ]
    }
   ],
   "source": [
    "# Inspect unique values of the 'date' column\n",
    "print(train['date'].unique())"
   ]
  },
  {
   "cell_type": "code",
   "execution_count": 244,
   "metadata": {},
   "outputs": [
    {
     "data": {
      "text/html": [
       "<div>\n",
       "<style scoped>\n",
       "    .dataframe tbody tr th:only-of-type {\n",
       "        vertical-align: middle;\n",
       "    }\n",
       "\n",
       "    .dataframe tbody tr th {\n",
       "        vertical-align: top;\n",
       "    }\n",
       "\n",
       "    .dataframe thead th {\n",
       "        text-align: right;\n",
       "    }\n",
       "</style>\n",
       "<table border=\"1\" class=\"dataframe\">\n",
       "  <thead>\n",
       "    <tr style=\"text-align: right;\">\n",
       "      <th></th>\n",
       "      <th>date</th>\n",
       "      <th>store_id</th>\n",
       "      <th>category_id</th>\n",
       "      <th>target</th>\n",
       "      <th>onpromotion</th>\n",
       "      <th>nbr_of_transactions</th>\n",
       "    </tr>\n",
       "  </thead>\n",
       "  <tbody>\n",
       "    <tr>\n",
       "      <th>0</th>\n",
       "      <td>365</td>\n",
       "      <td>store_1</td>\n",
       "      <td>category_24</td>\n",
       "      <td>0.000</td>\n",
       "      <td>0</td>\n",
       "      <td>0.0</td>\n",
       "    </tr>\n",
       "    <tr>\n",
       "      <th>1</th>\n",
       "      <td>365</td>\n",
       "      <td>store_1</td>\n",
       "      <td>category_21</td>\n",
       "      <td>0.000</td>\n",
       "      <td>0</td>\n",
       "      <td>0.0</td>\n",
       "    </tr>\n",
       "    <tr>\n",
       "      <th>2</th>\n",
       "      <td>365</td>\n",
       "      <td>store_1</td>\n",
       "      <td>category_32</td>\n",
       "      <td>0.000</td>\n",
       "      <td>0</td>\n",
       "      <td>0.0</td>\n",
       "    </tr>\n",
       "    <tr>\n",
       "      <th>3</th>\n",
       "      <td>365</td>\n",
       "      <td>store_1</td>\n",
       "      <td>category_18</td>\n",
       "      <td>0.000</td>\n",
       "      <td>0</td>\n",
       "      <td>0.0</td>\n",
       "    </tr>\n",
       "    <tr>\n",
       "      <th>4</th>\n",
       "      <td>365</td>\n",
       "      <td>store_1</td>\n",
       "      <td>category_26</td>\n",
       "      <td>0.000</td>\n",
       "      <td>0</td>\n",
       "      <td>0.0</td>\n",
       "    </tr>\n",
       "    <tr>\n",
       "      <th>...</th>\n",
       "      <td>...</td>\n",
       "      <td>...</td>\n",
       "      <td>...</td>\n",
       "      <td>...</td>\n",
       "      <td>...</td>\n",
       "      <td>...</td>\n",
       "    </tr>\n",
       "    <tr>\n",
       "      <th>2248879</th>\n",
       "      <td>1626</td>\n",
       "      <td>store_9</td>\n",
       "      <td>category_23</td>\n",
       "      <td>539.725</td>\n",
       "      <td>0</td>\n",
       "      <td>2141.0</td>\n",
       "    </tr>\n",
       "    <tr>\n",
       "      <th>2248880</th>\n",
       "      <td>1626</td>\n",
       "      <td>store_9</td>\n",
       "      <td>category_20</td>\n",
       "      <td>84.177</td>\n",
       "      <td>0</td>\n",
       "      <td>2141.0</td>\n",
       "    </tr>\n",
       "    <tr>\n",
       "      <th>2248881</th>\n",
       "      <td>1626</td>\n",
       "      <td>store_9</td>\n",
       "      <td>category_15</td>\n",
       "      <td>1973.760</td>\n",
       "      <td>3</td>\n",
       "      <td>2141.0</td>\n",
       "    </tr>\n",
       "    <tr>\n",
       "      <th>2248882</th>\n",
       "      <td>1626</td>\n",
       "      <td>store_9</td>\n",
       "      <td>category_29</td>\n",
       "      <td>2.000</td>\n",
       "      <td>0</td>\n",
       "      <td>2141.0</td>\n",
       "    </tr>\n",
       "    <tr>\n",
       "      <th>2248883</th>\n",
       "      <td>1626</td>\n",
       "      <td>store_9</td>\n",
       "      <td>category_10</td>\n",
       "      <td>27.076</td>\n",
       "      <td>0</td>\n",
       "      <td>2141.0</td>\n",
       "    </tr>\n",
       "  </tbody>\n",
       "</table>\n",
       "<p>2248884 rows × 6 columns</p>\n",
       "</div>"
      ],
      "text/plain": [
       "         date store_id  category_id    target  onpromotion  \\\n",
       "0         365  store_1  category_24     0.000            0   \n",
       "1         365  store_1  category_21     0.000            0   \n",
       "2         365  store_1  category_32     0.000            0   \n",
       "3         365  store_1  category_18     0.000            0   \n",
       "4         365  store_1  category_26     0.000            0   \n",
       "...       ...      ...          ...       ...          ...   \n",
       "2248879  1626  store_9  category_23   539.725            0   \n",
       "2248880  1626  store_9  category_20    84.177            0   \n",
       "2248881  1626  store_9  category_15  1973.760            3   \n",
       "2248882  1626  store_9  category_29     2.000            0   \n",
       "2248883  1626  store_9  category_10    27.076            0   \n",
       "\n",
       "         nbr_of_transactions  \n",
       "0                        0.0  \n",
       "1                        0.0  \n",
       "2                        0.0  \n",
       "3                        0.0  \n",
       "4                        0.0  \n",
       "...                      ...  \n",
       "2248879               2141.0  \n",
       "2248880               2141.0  \n",
       "2248881               2141.0  \n",
       "2248882               2141.0  \n",
       "2248883               2141.0  \n",
       "\n",
       "[2248884 rows x 6 columns]"
      ]
     },
     "execution_count": 244,
     "metadata": {},
     "output_type": "execute_result"
    }
   ],
   "source": [
    "train"
   ]
  },
  {
   "cell_type": "code",
   "execution_count": 245,
   "metadata": {},
   "outputs": [
    {
     "data": {
      "text/plain": [
       "(2248884, 6)"
      ]
     },
     "execution_count": 245,
     "metadata": {},
     "output_type": "execute_result"
    }
   ],
   "source": [
    "train.shape"
   ]
  },
  {
   "cell_type": "code",
   "execution_count": 246,
   "metadata": {},
   "outputs": [
    {
     "data": {
      "text/plain": [
       "<bound method DataFrame.info of          date store_id  category_id    target  onpromotion  \\\n",
       "0         365  store_1  category_24     0.000            0   \n",
       "1         365  store_1  category_21     0.000            0   \n",
       "2         365  store_1  category_32     0.000            0   \n",
       "3         365  store_1  category_18     0.000            0   \n",
       "4         365  store_1  category_26     0.000            0   \n",
       "...       ...      ...          ...       ...          ...   \n",
       "2248879  1626  store_9  category_23   539.725            0   \n",
       "2248880  1626  store_9  category_20    84.177            0   \n",
       "2248881  1626  store_9  category_15  1973.760            3   \n",
       "2248882  1626  store_9  category_29     2.000            0   \n",
       "2248883  1626  store_9  category_10    27.076            0   \n",
       "\n",
       "         nbr_of_transactions  \n",
       "0                        0.0  \n",
       "1                        0.0  \n",
       "2                        0.0  \n",
       "3                        0.0  \n",
       "4                        0.0  \n",
       "...                      ...  \n",
       "2248879               2141.0  \n",
       "2248880               2141.0  \n",
       "2248881               2141.0  \n",
       "2248882               2141.0  \n",
       "2248883               2141.0  \n",
       "\n",
       "[2248884 rows x 6 columns]>"
      ]
     },
     "execution_count": 246,
     "metadata": {},
     "output_type": "execute_result"
    }
   ],
   "source": [
    "train.info"
   ]
  },
  {
   "cell_type": "code",
   "execution_count": 247,
   "metadata": {},
   "outputs": [
    {
     "data": {
      "text/plain": [
       "date                   0\n",
       "store_id               0\n",
       "category_id            0\n",
       "target                 0\n",
       "onpromotion            0\n",
       "nbr_of_transactions    0\n",
       "dtype: int64"
      ]
     },
     "execution_count": 247,
     "metadata": {},
     "output_type": "execute_result"
    }
   ],
   "source": [
    "train.isna().sum()"
   ]
  },
  {
   "cell_type": "code",
   "execution_count": 248,
   "metadata": {},
   "outputs": [
    {
     "name": "stdout",
     "output_type": "stream",
     "text": [
      "Columns Names: ['date', 'store_id', 'category_id', 'target', 'onpromotion', 'nbr_of_transactions']\n"
     ]
    }
   ],
   "source": [
    "print(f'Columns Names: {list(train.columns)}')"
   ]
  },
  {
   "cell_type": "code",
   "execution_count": 249,
   "metadata": {},
   "outputs": [
    {
     "name": "stdout",
     "output_type": "stream",
     "text": [
      "[ 365  366  367 ... 1624 1625 1626]\n"
     ]
    }
   ],
   "source": [
    "# Inspect unique values of the 'date' column\n",
    "print(train['date'].unique())"
   ]
  },
  {
   "cell_type": "code",
   "execution_count": 250,
   "metadata": {},
   "outputs": [],
   "source": [
    "test = pd.read_csv('../Assets/test.csv')"
   ]
  },
  {
   "cell_type": "code",
   "execution_count": 251,
   "metadata": {},
   "outputs": [
    {
     "data": {
      "text/html": [
       "<div>\n",
       "<style scoped>\n",
       "    .dataframe tbody tr th:only-of-type {\n",
       "        vertical-align: middle;\n",
       "    }\n",
       "\n",
       "    .dataframe tbody tr th {\n",
       "        vertical-align: top;\n",
       "    }\n",
       "\n",
       "    .dataframe thead th {\n",
       "        text-align: right;\n",
       "    }\n",
       "</style>\n",
       "<table border=\"1\" class=\"dataframe\">\n",
       "  <thead>\n",
       "    <tr style=\"text-align: right;\">\n",
       "      <th></th>\n",
       "      <th>date</th>\n",
       "      <th>store_id</th>\n",
       "      <th>category_id</th>\n",
       "      <th>onpromotion</th>\n",
       "    </tr>\n",
       "  </thead>\n",
       "  <tbody>\n",
       "    <tr>\n",
       "      <th>0</th>\n",
       "      <td>1627</td>\n",
       "      <td>store_1</td>\n",
       "      <td>category_24</td>\n",
       "      <td>0</td>\n",
       "    </tr>\n",
       "    <tr>\n",
       "      <th>1</th>\n",
       "      <td>1627</td>\n",
       "      <td>store_1</td>\n",
       "      <td>category_21</td>\n",
       "      <td>0</td>\n",
       "    </tr>\n",
       "    <tr>\n",
       "      <th>2</th>\n",
       "      <td>1627</td>\n",
       "      <td>store_1</td>\n",
       "      <td>category_32</td>\n",
       "      <td>0</td>\n",
       "    </tr>\n",
       "    <tr>\n",
       "      <th>3</th>\n",
       "      <td>1627</td>\n",
       "      <td>store_1</td>\n",
       "      <td>category_18</td>\n",
       "      <td>16</td>\n",
       "    </tr>\n",
       "    <tr>\n",
       "      <th>4</th>\n",
       "      <td>1627</td>\n",
       "      <td>store_1</td>\n",
       "      <td>category_26</td>\n",
       "      <td>0</td>\n",
       "    </tr>\n",
       "    <tr>\n",
       "      <th>...</th>\n",
       "      <td>...</td>\n",
       "      <td>...</td>\n",
       "      <td>...</td>\n",
       "      <td>...</td>\n",
       "    </tr>\n",
       "    <tr>\n",
       "      <th>99787</th>\n",
       "      <td>1682</td>\n",
       "      <td>store_9</td>\n",
       "      <td>category_23</td>\n",
       "      <td>0</td>\n",
       "    </tr>\n",
       "    <tr>\n",
       "      <th>99788</th>\n",
       "      <td>1682</td>\n",
       "      <td>store_9</td>\n",
       "      <td>category_20</td>\n",
       "      <td>1</td>\n",
       "    </tr>\n",
       "    <tr>\n",
       "      <th>99789</th>\n",
       "      <td>1682</td>\n",
       "      <td>store_9</td>\n",
       "      <td>category_15</td>\n",
       "      <td>7</td>\n",
       "    </tr>\n",
       "    <tr>\n",
       "      <th>99790</th>\n",
       "      <td>1682</td>\n",
       "      <td>store_9</td>\n",
       "      <td>category_29</td>\n",
       "      <td>8</td>\n",
       "    </tr>\n",
       "    <tr>\n",
       "      <th>99791</th>\n",
       "      <td>1682</td>\n",
       "      <td>store_9</td>\n",
       "      <td>category_10</td>\n",
       "      <td>0</td>\n",
       "    </tr>\n",
       "  </tbody>\n",
       "</table>\n",
       "<p>99792 rows × 4 columns</p>\n",
       "</div>"
      ],
      "text/plain": [
       "       date store_id  category_id  onpromotion\n",
       "0      1627  store_1  category_24            0\n",
       "1      1627  store_1  category_21            0\n",
       "2      1627  store_1  category_32            0\n",
       "3      1627  store_1  category_18           16\n",
       "4      1627  store_1  category_26            0\n",
       "...     ...      ...          ...          ...\n",
       "99787  1682  store_9  category_23            0\n",
       "99788  1682  store_9  category_20            1\n",
       "99789  1682  store_9  category_15            7\n",
       "99790  1682  store_9  category_29            8\n",
       "99791  1682  store_9  category_10            0\n",
       "\n",
       "[99792 rows x 4 columns]"
      ]
     },
     "execution_count": 251,
     "metadata": {},
     "output_type": "execute_result"
    }
   ],
   "source": [
    "test"
   ]
  },
  {
   "cell_type": "code",
   "execution_count": 252,
   "metadata": {},
   "outputs": [
    {
     "data": {
      "text/plain": [
       "date           0\n",
       "store_id       0\n",
       "category_id    0\n",
       "onpromotion    0\n",
       "dtype: int64"
      ]
     },
     "execution_count": 252,
     "metadata": {},
     "output_type": "execute_result"
    }
   ],
   "source": [
    "test.isna().sum()"
   ]
  },
  {
   "cell_type": "code",
   "execution_count": 253,
   "metadata": {},
   "outputs": [
    {
     "name": "stdout",
     "output_type": "stream",
     "text": [
      "Columns Names: ['date', 'store_id', 'category_id', 'onpromotion']\n"
     ]
    }
   ],
   "source": [
    "print(f'Columns Names: {list(test.columns)}')"
   ]
  },
  {
   "cell_type": "code",
   "execution_count": 254,
   "metadata": {},
   "outputs": [],
   "source": [
    "str = pd.read_csv('../Assets/stores.csv')"
   ]
  },
  {
   "cell_type": "code",
   "execution_count": 255,
   "metadata": {},
   "outputs": [
    {
     "data": {
      "text/html": [
       "<div>\n",
       "<style scoped>\n",
       "    .dataframe tbody tr th:only-of-type {\n",
       "        vertical-align: middle;\n",
       "    }\n",
       "\n",
       "    .dataframe tbody tr th {\n",
       "        vertical-align: top;\n",
       "    }\n",
       "\n",
       "    .dataframe thead th {\n",
       "        text-align: right;\n",
       "    }\n",
       "</style>\n",
       "<table border=\"1\" class=\"dataframe\">\n",
       "  <thead>\n",
       "    <tr style=\"text-align: right;\">\n",
       "      <th></th>\n",
       "      <th>store_id</th>\n",
       "      <th>city</th>\n",
       "      <th>type</th>\n",
       "      <th>cluster</th>\n",
       "    </tr>\n",
       "  </thead>\n",
       "  <tbody>\n",
       "    <tr>\n",
       "      <th>0</th>\n",
       "      <td>store_1</td>\n",
       "      <td>0</td>\n",
       "      <td>0</td>\n",
       "      <td>0</td>\n",
       "    </tr>\n",
       "    <tr>\n",
       "      <th>1</th>\n",
       "      <td>store_2</td>\n",
       "      <td>0</td>\n",
       "      <td>0</td>\n",
       "      <td>0</td>\n",
       "    </tr>\n",
       "    <tr>\n",
       "      <th>2</th>\n",
       "      <td>store_3</td>\n",
       "      <td>0</td>\n",
       "      <td>0</td>\n",
       "      <td>1</td>\n",
       "    </tr>\n",
       "    <tr>\n",
       "      <th>3</th>\n",
       "      <td>store_4</td>\n",
       "      <td>0</td>\n",
       "      <td>0</td>\n",
       "      <td>2</td>\n",
       "    </tr>\n",
       "    <tr>\n",
       "      <th>4</th>\n",
       "      <td>store_5</td>\n",
       "      <td>1</td>\n",
       "      <td>0</td>\n",
       "      <td>3</td>\n",
       "    </tr>\n",
       "  </tbody>\n",
       "</table>\n",
       "</div>"
      ],
      "text/plain": [
       "  store_id  city  type  cluster\n",
       "0  store_1     0     0        0\n",
       "1  store_2     0     0        0\n",
       "2  store_3     0     0        1\n",
       "3  store_4     0     0        2\n",
       "4  store_5     1     0        3"
      ]
     },
     "execution_count": 255,
     "metadata": {},
     "output_type": "execute_result"
    }
   ],
   "source": [
    "str.head()"
   ]
  },
  {
   "cell_type": "code",
   "execution_count": 256,
   "metadata": {},
   "outputs": [
    {
     "data": {
      "text/plain": [
       "<bound method DataFrame.info of     store_id  city  type  cluster\n",
       "0    store_1     0     0        0\n",
       "1    store_2     0     0        0\n",
       "2    store_3     0     0        1\n",
       "3    store_4     0     0        2\n",
       "4    store_5     1     0        3\n",
       "5    store_6     0     0        0\n",
       "6    store_7     0     0        1\n",
       "7    store_8     0     0        1\n",
       "8    store_9     0     1        4\n",
       "9   store_10     0     2        5\n",
       "10  store_11     2     1        4\n",
       "11  store_12     3     2        5\n",
       "12  store_13     3     2        5\n",
       "13  store_14     4     2        6\n",
       "14  store_15     5     2        5\n",
       "15  store_16     1     2        7\n",
       "16  store_17     0     2        8\n",
       "17  store_18     0     1        9\n",
       "18  store_19     6     2        5\n",
       "19  store_20     0     1        4\n",
       "20  store_21     1     1        4\n",
       "21  store_22     7     2        6\n",
       "22  store_23     8     0        2\n",
       "23  store_24     9     0       10\n",
       "24  store_25    10     0       10\n",
       "25  store_26     9     0       11\n",
       "26  store_27    11     0       10\n",
       "27  store_28     9     3       11\n",
       "28  store_29     9     3       11\n",
       "29  store_30     9     2        7\n",
       "30  store_31    12     1       11\n",
       "31  store_32     9     2        7\n",
       "32  store_33    13     2        7\n",
       "33  store_34     9     1        4\n",
       "34  store_35    14     2        7\n",
       "35  store_36    15     3       11\n",
       "36  store_37    16     0       12\n",
       "37  store_38    17     0        3\n",
       "38  store_39    16     1        4\n",
       "39  store_40    18     2        7\n",
       "40  store_41    18     0        3\n",
       "41  store_42    16     0       12\n",
       "42  store_43    19     3       11\n",
       "43  store_44     0     4       13\n",
       "44  store_45     0     4       14\n",
       "45  store_46     0     4       15\n",
       "46  store_47     0     4       15\n",
       "47  store_48     0     4       15\n",
       "48  store_49     0     4       14\n",
       "49  store_50     8     4       15\n",
       "50  store_51     9     4       16\n",
       "51  store_52    20     4       14\n",
       "52  store_53    20     0        0\n",
       "53  store_54    21     2        7>"
      ]
     },
     "execution_count": 256,
     "metadata": {},
     "output_type": "execute_result"
    }
   ],
   "source": [
    "str.info"
   ]
  },
  {
   "cell_type": "code",
   "execution_count": 257,
   "metadata": {},
   "outputs": [
    {
     "name": "stdout",
     "output_type": "stream",
     "text": [
      "Columns Names: ['store_id', 'city', 'type', 'cluster']\n"
     ]
    }
   ],
   "source": [
    "print(f'Columns Names: {list(str.columns)}')"
   ]
  },
  {
   "cell_type": "code",
   "execution_count": 258,
   "metadata": {},
   "outputs": [
    {
     "data": {
      "text/plain": [
       "(54, 4)"
      ]
     },
     "execution_count": 258,
     "metadata": {},
     "output_type": "execute_result"
    }
   ],
   "source": [
    "str.shape"
   ]
  },
  {
   "cell_type": "code",
   "execution_count": 259,
   "metadata": {},
   "outputs": [],
   "source": [
    "dates = pd.read_csv('../Assets/dates.csv')"
   ]
  },
  {
   "cell_type": "code",
   "execution_count": 260,
   "metadata": {},
   "outputs": [
    {
     "data": {
      "text/html": [
       "<div>\n",
       "<style scoped>\n",
       "    .dataframe tbody tr th:only-of-type {\n",
       "        vertical-align: middle;\n",
       "    }\n",
       "\n",
       "    .dataframe tbody tr th {\n",
       "        vertical-align: top;\n",
       "    }\n",
       "\n",
       "    .dataframe thead th {\n",
       "        text-align: right;\n",
       "    }\n",
       "</style>\n",
       "<table border=\"1\" class=\"dataframe\">\n",
       "  <thead>\n",
       "    <tr style=\"text-align: right;\">\n",
       "      <th></th>\n",
       "      <th>date</th>\n",
       "      <th>year</th>\n",
       "      <th>month</th>\n",
       "      <th>dayofmonth</th>\n",
       "      <th>dayofweek</th>\n",
       "      <th>dayofyear</th>\n",
       "      <th>weekofyear</th>\n",
       "      <th>quarter</th>\n",
       "      <th>is_month_start</th>\n",
       "      <th>is_month_end</th>\n",
       "      <th>is_quarter_start</th>\n",
       "      <th>is_quarter_end</th>\n",
       "      <th>is_year_start</th>\n",
       "      <th>is_year_end</th>\n",
       "      <th>year_weekofyear</th>\n",
       "    </tr>\n",
       "  </thead>\n",
       "  <tbody>\n",
       "    <tr>\n",
       "      <th>0</th>\n",
       "      <td>365</td>\n",
       "      <td>1</td>\n",
       "      <td>1</td>\n",
       "      <td>1</td>\n",
       "      <td>2</td>\n",
       "      <td>1</td>\n",
       "      <td>1</td>\n",
       "      <td>1</td>\n",
       "      <td>True</td>\n",
       "      <td>False</td>\n",
       "      <td>True</td>\n",
       "      <td>False</td>\n",
       "      <td>True</td>\n",
       "      <td>False</td>\n",
       "      <td>101</td>\n",
       "    </tr>\n",
       "    <tr>\n",
       "      <th>1</th>\n",
       "      <td>366</td>\n",
       "      <td>1</td>\n",
       "      <td>1</td>\n",
       "      <td>2</td>\n",
       "      <td>3</td>\n",
       "      <td>2</td>\n",
       "      <td>1</td>\n",
       "      <td>1</td>\n",
       "      <td>False</td>\n",
       "      <td>False</td>\n",
       "      <td>False</td>\n",
       "      <td>False</td>\n",
       "      <td>False</td>\n",
       "      <td>False</td>\n",
       "      <td>101</td>\n",
       "    </tr>\n",
       "    <tr>\n",
       "      <th>2</th>\n",
       "      <td>367</td>\n",
       "      <td>1</td>\n",
       "      <td>1</td>\n",
       "      <td>3</td>\n",
       "      <td>4</td>\n",
       "      <td>3</td>\n",
       "      <td>1</td>\n",
       "      <td>1</td>\n",
       "      <td>False</td>\n",
       "      <td>False</td>\n",
       "      <td>False</td>\n",
       "      <td>False</td>\n",
       "      <td>False</td>\n",
       "      <td>False</td>\n",
       "      <td>101</td>\n",
       "    </tr>\n",
       "    <tr>\n",
       "      <th>3</th>\n",
       "      <td>368</td>\n",
       "      <td>1</td>\n",
       "      <td>1</td>\n",
       "      <td>4</td>\n",
       "      <td>5</td>\n",
       "      <td>4</td>\n",
       "      <td>1</td>\n",
       "      <td>1</td>\n",
       "      <td>False</td>\n",
       "      <td>False</td>\n",
       "      <td>False</td>\n",
       "      <td>False</td>\n",
       "      <td>False</td>\n",
       "      <td>False</td>\n",
       "      <td>101</td>\n",
       "    </tr>\n",
       "    <tr>\n",
       "      <th>4</th>\n",
       "      <td>369</td>\n",
       "      <td>1</td>\n",
       "      <td>1</td>\n",
       "      <td>5</td>\n",
       "      <td>6</td>\n",
       "      <td>5</td>\n",
       "      <td>1</td>\n",
       "      <td>1</td>\n",
       "      <td>False</td>\n",
       "      <td>False</td>\n",
       "      <td>False</td>\n",
       "      <td>False</td>\n",
       "      <td>False</td>\n",
       "      <td>False</td>\n",
       "      <td>101</td>\n",
       "    </tr>\n",
       "  </tbody>\n",
       "</table>\n",
       "</div>"
      ],
      "text/plain": [
       "   date  year  month  dayofmonth  dayofweek  dayofyear  weekofyear  quarter  \\\n",
       "0   365     1      1           1          2          1           1        1   \n",
       "1   366     1      1           2          3          2           1        1   \n",
       "2   367     1      1           3          4          3           1        1   \n",
       "3   368     1      1           4          5          4           1        1   \n",
       "4   369     1      1           5          6          5           1        1   \n",
       "\n",
       "   is_month_start  is_month_end  is_quarter_start  is_quarter_end  \\\n",
       "0            True         False              True           False   \n",
       "1           False         False             False           False   \n",
       "2           False         False             False           False   \n",
       "3           False         False             False           False   \n",
       "4           False         False             False           False   \n",
       "\n",
       "   is_year_start  is_year_end  year_weekofyear  \n",
       "0           True        False              101  \n",
       "1          False        False              101  \n",
       "2          False        False              101  \n",
       "3          False        False              101  \n",
       "4          False        False              101  "
      ]
     },
     "execution_count": 260,
     "metadata": {},
     "output_type": "execute_result"
    }
   ],
   "source": [
    "dates.head()"
   ]
  },
  {
   "cell_type": "code",
   "execution_count": 261,
   "metadata": {},
   "outputs": [
    {
     "name": "stdout",
     "output_type": "stream",
     "text": [
      "Columns Names: ['date', 'year', 'month', 'dayofmonth', 'dayofweek', 'dayofyear', 'weekofyear', 'quarter', 'is_month_start', 'is_month_end', 'is_quarter_start', 'is_quarter_end', 'is_year_start', 'is_year_end', 'year_weekofyear']\n"
     ]
    }
   ],
   "source": [
    "print(f'Columns Names: {list(dates.columns)}')"
   ]
  },
  {
   "cell_type": "code",
   "execution_count": 262,
   "metadata": {},
   "outputs": [
    {
     "data": {
      "text/plain": [
       "date                0\n",
       "year                0\n",
       "month               0\n",
       "dayofmonth          0\n",
       "dayofweek           0\n",
       "dayofyear           0\n",
       "weekofyear          0\n",
       "quarter             0\n",
       "is_month_start      0\n",
       "is_month_end        0\n",
       "is_quarter_start    0\n",
       "is_quarter_end      0\n",
       "is_year_start       0\n",
       "is_year_end         0\n",
       "year_weekofyear     0\n",
       "dtype: int64"
      ]
     },
     "execution_count": 262,
     "metadata": {},
     "output_type": "execute_result"
    }
   ],
   "source": [
    "dates.isna().sum()"
   ]
  },
  {
   "cell_type": "code",
   "execution_count": 263,
   "metadata": {},
   "outputs": [],
   "source": [
    "holiday= pd.read_csv('../Assets/holidays.csv')"
   ]
  },
  {
   "cell_type": "code",
   "execution_count": 264,
   "metadata": {},
   "outputs": [
    {
     "data": {
      "text/html": [
       "<div>\n",
       "<style scoped>\n",
       "    .dataframe tbody tr th:only-of-type {\n",
       "        vertical-align: middle;\n",
       "    }\n",
       "\n",
       "    .dataframe tbody tr th {\n",
       "        vertical-align: top;\n",
       "    }\n",
       "\n",
       "    .dataframe thead th {\n",
       "        text-align: right;\n",
       "    }\n",
       "</style>\n",
       "<table border=\"1\" class=\"dataframe\">\n",
       "  <thead>\n",
       "    <tr style=\"text-align: right;\">\n",
       "      <th></th>\n",
       "      <th>date</th>\n",
       "      <th>type</th>\n",
       "    </tr>\n",
       "  </thead>\n",
       "  <tbody>\n",
       "    <tr>\n",
       "      <th>0</th>\n",
       "      <td>1</td>\n",
       "      <td>0</td>\n",
       "    </tr>\n",
       "    <tr>\n",
       "      <th>1</th>\n",
       "      <td>5</td>\n",
       "      <td>4</td>\n",
       "    </tr>\n",
       "    <tr>\n",
       "      <th>2</th>\n",
       "      <td>12</td>\n",
       "      <td>4</td>\n",
       "    </tr>\n",
       "    <tr>\n",
       "      <th>3</th>\n",
       "      <td>42</td>\n",
       "      <td>0</td>\n",
       "    </tr>\n",
       "    <tr>\n",
       "      <th>4</th>\n",
       "      <td>43</td>\n",
       "      <td>0</td>\n",
       "    </tr>\n",
       "  </tbody>\n",
       "</table>\n",
       "</div>"
      ],
      "text/plain": [
       "   date  type\n",
       "0     1     0\n",
       "1     5     4\n",
       "2    12     4\n",
       "3    42     0\n",
       "4    43     0"
      ]
     },
     "execution_count": 264,
     "metadata": {},
     "output_type": "execute_result"
    }
   ],
   "source": [
    "holiday.head()"
   ]
  },
  {
   "cell_type": "code",
   "execution_count": 265,
   "metadata": {},
   "outputs": [
    {
     "name": "stdout",
     "output_type": "stream",
     "text": [
      "Columns Names: ['date', 'type']\n"
     ]
    }
   ],
   "source": [
    "print(f'Columns Names: {list(holiday.columns)}')"
   ]
  },
  {
   "cell_type": "code",
   "execution_count": 266,
   "metadata": {},
   "outputs": [
    {
     "data": {
      "text/plain": [
       "date    0\n",
       "type    0\n",
       "dtype: int64"
      ]
     },
     "execution_count": 266,
     "metadata": {},
     "output_type": "execute_result"
    }
   ],
   "source": [
    "holiday.isna().sum()"
   ]
  },
  {
   "cell_type": "code",
   "execution_count": 267,
   "metadata": {},
   "outputs": [],
   "source": [
    "# Convert 'date' column to datetime format for each dataset\n",
    "train['date'] = pd.to_datetime(train['date'])\n",
    "test['date'] = pd.to_datetime(test['date'])\n",
    "dates['date'] = pd.to_datetime(dates['date'])\n",
    "holiday['date'] = pd.to_datetime(holiday['date'])\n",
    "\n",
    "# Merge datasets based on 'store_id' and 'date'\n",
    "train_merged = pd.merge(train, str, on='store_id', how='left')\n",
    "test_merged = pd.merge(test, str, on='store_id', how='left')\n",
    "\n",
    "# Merge with dates dataset to incorporate date-related features\n",
    "train_merged = pd.merge(train_merged, dates, on='date', how='left')\n",
    "test_merged = pd.merge(test_merged, dates, on='date', how='left')\n",
    "\n",
    "# Merge with holidays dataset to incorporate holiday information\n",
    "train_merged = pd.merge(train_merged, holiday, on='date', how='left')\n",
    "test_merged = pd.merge(test_merged, holiday, on='date', how='left')\n"
   ]
  },
  {
   "cell_type": "code",
   "execution_count": 268,
   "metadata": {},
   "outputs": [
    {
     "data": {
      "text/html": [
       "<div>\n",
       "<style scoped>\n",
       "    .dataframe tbody tr th:only-of-type {\n",
       "        vertical-align: middle;\n",
       "    }\n",
       "\n",
       "    .dataframe tbody tr th {\n",
       "        vertical-align: top;\n",
       "    }\n",
       "\n",
       "    .dataframe thead th {\n",
       "        text-align: right;\n",
       "    }\n",
       "</style>\n",
       "<table border=\"1\" class=\"dataframe\">\n",
       "  <thead>\n",
       "    <tr style=\"text-align: right;\">\n",
       "      <th></th>\n",
       "      <th>date</th>\n",
       "      <th>store_id</th>\n",
       "      <th>category_id</th>\n",
       "      <th>target</th>\n",
       "      <th>onpromotion</th>\n",
       "      <th>nbr_of_transactions</th>\n",
       "      <th>city</th>\n",
       "      <th>type_x</th>\n",
       "      <th>cluster</th>\n",
       "      <th>year</th>\n",
       "      <th>...</th>\n",
       "      <th>weekofyear</th>\n",
       "      <th>quarter</th>\n",
       "      <th>is_month_start</th>\n",
       "      <th>is_month_end</th>\n",
       "      <th>is_quarter_start</th>\n",
       "      <th>is_quarter_end</th>\n",
       "      <th>is_year_start</th>\n",
       "      <th>is_year_end</th>\n",
       "      <th>year_weekofyear</th>\n",
       "      <th>type_y</th>\n",
       "    </tr>\n",
       "  </thead>\n",
       "  <tbody>\n",
       "    <tr>\n",
       "      <th>0</th>\n",
       "      <td>1970-01-01 00:00:00.000000365</td>\n",
       "      <td>store_1</td>\n",
       "      <td>category_24</td>\n",
       "      <td>0.0</td>\n",
       "      <td>0</td>\n",
       "      <td>0.0</td>\n",
       "      <td>0</td>\n",
       "      <td>0</td>\n",
       "      <td>0</td>\n",
       "      <td>1</td>\n",
       "      <td>...</td>\n",
       "      <td>1</td>\n",
       "      <td>1</td>\n",
       "      <td>True</td>\n",
       "      <td>False</td>\n",
       "      <td>True</td>\n",
       "      <td>False</td>\n",
       "      <td>True</td>\n",
       "      <td>False</td>\n",
       "      <td>101</td>\n",
       "      <td>0.0</td>\n",
       "    </tr>\n",
       "    <tr>\n",
       "      <th>1</th>\n",
       "      <td>1970-01-01 00:00:00.000000365</td>\n",
       "      <td>store_1</td>\n",
       "      <td>category_21</td>\n",
       "      <td>0.0</td>\n",
       "      <td>0</td>\n",
       "      <td>0.0</td>\n",
       "      <td>0</td>\n",
       "      <td>0</td>\n",
       "      <td>0</td>\n",
       "      <td>1</td>\n",
       "      <td>...</td>\n",
       "      <td>1</td>\n",
       "      <td>1</td>\n",
       "      <td>True</td>\n",
       "      <td>False</td>\n",
       "      <td>True</td>\n",
       "      <td>False</td>\n",
       "      <td>True</td>\n",
       "      <td>False</td>\n",
       "      <td>101</td>\n",
       "      <td>0.0</td>\n",
       "    </tr>\n",
       "    <tr>\n",
       "      <th>2</th>\n",
       "      <td>1970-01-01 00:00:00.000000365</td>\n",
       "      <td>store_1</td>\n",
       "      <td>category_32</td>\n",
       "      <td>0.0</td>\n",
       "      <td>0</td>\n",
       "      <td>0.0</td>\n",
       "      <td>0</td>\n",
       "      <td>0</td>\n",
       "      <td>0</td>\n",
       "      <td>1</td>\n",
       "      <td>...</td>\n",
       "      <td>1</td>\n",
       "      <td>1</td>\n",
       "      <td>True</td>\n",
       "      <td>False</td>\n",
       "      <td>True</td>\n",
       "      <td>False</td>\n",
       "      <td>True</td>\n",
       "      <td>False</td>\n",
       "      <td>101</td>\n",
       "      <td>0.0</td>\n",
       "    </tr>\n",
       "    <tr>\n",
       "      <th>3</th>\n",
       "      <td>1970-01-01 00:00:00.000000365</td>\n",
       "      <td>store_1</td>\n",
       "      <td>category_18</td>\n",
       "      <td>0.0</td>\n",
       "      <td>0</td>\n",
       "      <td>0.0</td>\n",
       "      <td>0</td>\n",
       "      <td>0</td>\n",
       "      <td>0</td>\n",
       "      <td>1</td>\n",
       "      <td>...</td>\n",
       "      <td>1</td>\n",
       "      <td>1</td>\n",
       "      <td>True</td>\n",
       "      <td>False</td>\n",
       "      <td>True</td>\n",
       "      <td>False</td>\n",
       "      <td>True</td>\n",
       "      <td>False</td>\n",
       "      <td>101</td>\n",
       "      <td>0.0</td>\n",
       "    </tr>\n",
       "    <tr>\n",
       "      <th>4</th>\n",
       "      <td>1970-01-01 00:00:00.000000365</td>\n",
       "      <td>store_1</td>\n",
       "      <td>category_26</td>\n",
       "      <td>0.0</td>\n",
       "      <td>0</td>\n",
       "      <td>0.0</td>\n",
       "      <td>0</td>\n",
       "      <td>0</td>\n",
       "      <td>0</td>\n",
       "      <td>1</td>\n",
       "      <td>...</td>\n",
       "      <td>1</td>\n",
       "      <td>1</td>\n",
       "      <td>True</td>\n",
       "      <td>False</td>\n",
       "      <td>True</td>\n",
       "      <td>False</td>\n",
       "      <td>True</td>\n",
       "      <td>False</td>\n",
       "      <td>101</td>\n",
       "      <td>0.0</td>\n",
       "    </tr>\n",
       "  </tbody>\n",
       "</table>\n",
       "<p>5 rows × 24 columns</p>\n",
       "</div>"
      ],
      "text/plain": [
       "                           date store_id  category_id  target  onpromotion  \\\n",
       "0 1970-01-01 00:00:00.000000365  store_1  category_24     0.0            0   \n",
       "1 1970-01-01 00:00:00.000000365  store_1  category_21     0.0            0   \n",
       "2 1970-01-01 00:00:00.000000365  store_1  category_32     0.0            0   \n",
       "3 1970-01-01 00:00:00.000000365  store_1  category_18     0.0            0   \n",
       "4 1970-01-01 00:00:00.000000365  store_1  category_26     0.0            0   \n",
       "\n",
       "   nbr_of_transactions  city  type_x  cluster  year  ...  weekofyear  quarter  \\\n",
       "0                  0.0     0       0        0     1  ...           1        1   \n",
       "1                  0.0     0       0        0     1  ...           1        1   \n",
       "2                  0.0     0       0        0     1  ...           1        1   \n",
       "3                  0.0     0       0        0     1  ...           1        1   \n",
       "4                  0.0     0       0        0     1  ...           1        1   \n",
       "\n",
       "   is_month_start  is_month_end  is_quarter_start  is_quarter_end  \\\n",
       "0            True         False              True           False   \n",
       "1            True         False              True           False   \n",
       "2            True         False              True           False   \n",
       "3            True         False              True           False   \n",
       "4            True         False              True           False   \n",
       "\n",
       "   is_year_start  is_year_end  year_weekofyear  type_y  \n",
       "0           True        False              101     0.0  \n",
       "1           True        False              101     0.0  \n",
       "2           True        False              101     0.0  \n",
       "3           True        False              101     0.0  \n",
       "4           True        False              101     0.0  \n",
       "\n",
       "[5 rows x 24 columns]"
      ]
     },
     "execution_count": 268,
     "metadata": {},
     "output_type": "execute_result"
    }
   ],
   "source": [
    "train_merged.head()"
   ]
  },
  {
   "cell_type": "code",
   "execution_count": null,
   "metadata": {},
   "outputs": [],
   "source": [
    "train_merged.isna().sum()"
   ]
  },
  {
   "cell_type": "code",
   "execution_count": null,
   "metadata": {},
   "outputs": [],
   "source": [
    "# Check the 'date' column in merged_train_data\n",
    "print(train_merged['date'])"
   ]
  },
  {
   "cell_type": "code",
   "execution_count": null,
   "metadata": {},
   "outputs": [],
   "source": [
    "# Inspect unique values of the 'date' column\n",
    "print(train_merged['date'].unique())"
   ]
  },
  {
   "cell_type": "code",
   "execution_count": null,
   "metadata": {},
   "outputs": [],
   "source": []
  }
 ],
 "metadata": {
  "kernelspec": {
   "display_name": ".venv",
   "language": "python",
   "name": "python3"
  },
  "language_info": {
   "codemirror_mode": {
    "name": "ipython",
    "version": 3
   },
   "file_extension": ".py",
   "mimetype": "text/x-python",
   "name": "python",
   "nbconvert_exporter": "python",
   "pygments_lexer": "ipython3",
   "version": "3.11.4"
  }
 },
 "nbformat": 4,
 "nbformat_minor": 2
}
