{
 "cells": [
  {
   "cell_type": "markdown",
   "metadata": {},
   "source": [
    "## Importation"
   ]
  },
  {
   "cell_type": "code",
   "execution_count": 3,
   "metadata": {},
   "outputs": [],
   "source": [
    "# Data manipulation and analysis\n",
    "import pandas as pd\n",
    "import numpy as np\n",
    "\n",
    "# Data visualization\n",
    "import matplotlib.pyplot as plt\n",
    "import seaborn as sns\n",
    "\n",
    "# Time series analysis\n",
    "from statsmodels.tsa.seasonal import seasonal_decompose\n",
    "from statsmodels.tsa.stattools import adfuller\n",
    "from statsmodels.graphics.tsaplots import plot_acf, plot_pacf\n",
    "\n",
    "# Feature engineering\n",
    "from sklearn.preprocessing import StandardScaler\n",
    "\n",
    "# Machine learning models\n",
    "from sklearn.model_selection import train_test_split\n",
    "from sklearn.ensemble import RandomForestRegressor  # or any other regression model\n",
    "from xgboost import XGBRegressor  # if you want to try XGBoost\n",
    "\n",
    "# Model evaluation\n",
    "from sklearn.metrics import mean_absolute_error, mean_squared_error\n",
    "\n",
    "# Hyperparameter tuning\n",
    "from sklearn.model_selection import GridSearchCV\n",
    "\n",
    "# Time series-specific models\n",
    "from statsmodels.tsa.statespace.sarimax import SARIMAX\n",
    "\n",
    "\n",
    "# Other utilities\n",
    "from datetime import datetime\n",
    "import os\n",
    "\n",
    "\n",
    "# Ignore warnings\n",
    "import warnings\n",
    "warnings.filterwarnings('ignore')\n",
    "\n"
   ]
  },
  {
   "cell_type": "code",
   "execution_count": 12,
   "metadata": {},
   "outputs": [],
   "source": [
    "data = pd.read_csv('../Assets/train.csv')"
   ]
  },
  {
   "cell_type": "code",
   "execution_count": 13,
   "metadata": {},
   "outputs": [
    {
     "data": {
      "text/html": [
       "<div>\n",
       "<style scoped>\n",
       "    .dataframe tbody tr th:only-of-type {\n",
       "        vertical-align: middle;\n",
       "    }\n",
       "\n",
       "    .dataframe tbody tr th {\n",
       "        vertical-align: top;\n",
       "    }\n",
       "\n",
       "    .dataframe thead th {\n",
       "        text-align: right;\n",
       "    }\n",
       "</style>\n",
       "<table border=\"1\" class=\"dataframe\">\n",
       "  <thead>\n",
       "    <tr style=\"text-align: right;\">\n",
       "      <th></th>\n",
       "      <th>date</th>\n",
       "      <th>store_id</th>\n",
       "      <th>category_id</th>\n",
       "      <th>target</th>\n",
       "      <th>onpromotion</th>\n",
       "      <th>nbr_of_transactions</th>\n",
       "    </tr>\n",
       "  </thead>\n",
       "  <tbody>\n",
       "    <tr>\n",
       "      <th>0</th>\n",
       "      <td>365</td>\n",
       "      <td>store_1</td>\n",
       "      <td>category_24</td>\n",
       "      <td>0.000</td>\n",
       "      <td>0</td>\n",
       "      <td>0.0</td>\n",
       "    </tr>\n",
       "    <tr>\n",
       "      <th>1</th>\n",
       "      <td>365</td>\n",
       "      <td>store_1</td>\n",
       "      <td>category_21</td>\n",
       "      <td>0.000</td>\n",
       "      <td>0</td>\n",
       "      <td>0.0</td>\n",
       "    </tr>\n",
       "    <tr>\n",
       "      <th>2</th>\n",
       "      <td>365</td>\n",
       "      <td>store_1</td>\n",
       "      <td>category_32</td>\n",
       "      <td>0.000</td>\n",
       "      <td>0</td>\n",
       "      <td>0.0</td>\n",
       "    </tr>\n",
       "    <tr>\n",
       "      <th>3</th>\n",
       "      <td>365</td>\n",
       "      <td>store_1</td>\n",
       "      <td>category_18</td>\n",
       "      <td>0.000</td>\n",
       "      <td>0</td>\n",
       "      <td>0.0</td>\n",
       "    </tr>\n",
       "    <tr>\n",
       "      <th>4</th>\n",
       "      <td>365</td>\n",
       "      <td>store_1</td>\n",
       "      <td>category_26</td>\n",
       "      <td>0.000</td>\n",
       "      <td>0</td>\n",
       "      <td>0.0</td>\n",
       "    </tr>\n",
       "    <tr>\n",
       "      <th>...</th>\n",
       "      <td>...</td>\n",
       "      <td>...</td>\n",
       "      <td>...</td>\n",
       "      <td>...</td>\n",
       "      <td>...</td>\n",
       "      <td>...</td>\n",
       "    </tr>\n",
       "    <tr>\n",
       "      <th>2248879</th>\n",
       "      <td>1626</td>\n",
       "      <td>store_9</td>\n",
       "      <td>category_23</td>\n",
       "      <td>539.725</td>\n",
       "      <td>0</td>\n",
       "      <td>2141.0</td>\n",
       "    </tr>\n",
       "    <tr>\n",
       "      <th>2248880</th>\n",
       "      <td>1626</td>\n",
       "      <td>store_9</td>\n",
       "      <td>category_20</td>\n",
       "      <td>84.177</td>\n",
       "      <td>0</td>\n",
       "      <td>2141.0</td>\n",
       "    </tr>\n",
       "    <tr>\n",
       "      <th>2248881</th>\n",
       "      <td>1626</td>\n",
       "      <td>store_9</td>\n",
       "      <td>category_15</td>\n",
       "      <td>1973.760</td>\n",
       "      <td>3</td>\n",
       "      <td>2141.0</td>\n",
       "    </tr>\n",
       "    <tr>\n",
       "      <th>2248882</th>\n",
       "      <td>1626</td>\n",
       "      <td>store_9</td>\n",
       "      <td>category_29</td>\n",
       "      <td>2.000</td>\n",
       "      <td>0</td>\n",
       "      <td>2141.0</td>\n",
       "    </tr>\n",
       "    <tr>\n",
       "      <th>2248883</th>\n",
       "      <td>1626</td>\n",
       "      <td>store_9</td>\n",
       "      <td>category_10</td>\n",
       "      <td>27.076</td>\n",
       "      <td>0</td>\n",
       "      <td>2141.0</td>\n",
       "    </tr>\n",
       "  </tbody>\n",
       "</table>\n",
       "<p>2248884 rows × 6 columns</p>\n",
       "</div>"
      ],
      "text/plain": [
       "         date store_id  category_id    target  onpromotion  \\\n",
       "0         365  store_1  category_24     0.000            0   \n",
       "1         365  store_1  category_21     0.000            0   \n",
       "2         365  store_1  category_32     0.000            0   \n",
       "3         365  store_1  category_18     0.000            0   \n",
       "4         365  store_1  category_26     0.000            0   \n",
       "...       ...      ...          ...       ...          ...   \n",
       "2248879  1626  store_9  category_23   539.725            0   \n",
       "2248880  1626  store_9  category_20    84.177            0   \n",
       "2248881  1626  store_9  category_15  1973.760            3   \n",
       "2248882  1626  store_9  category_29     2.000            0   \n",
       "2248883  1626  store_9  category_10    27.076            0   \n",
       "\n",
       "         nbr_of_transactions  \n",
       "0                        0.0  \n",
       "1                        0.0  \n",
       "2                        0.0  \n",
       "3                        0.0  \n",
       "4                        0.0  \n",
       "...                      ...  \n",
       "2248879               2141.0  \n",
       "2248880               2141.0  \n",
       "2248881               2141.0  \n",
       "2248882               2141.0  \n",
       "2248883               2141.0  \n",
       "\n",
       "[2248884 rows x 6 columns]"
      ]
     },
     "execution_count": 13,
     "metadata": {},
     "output_type": "execute_result"
    }
   ],
   "source": [
    "data"
   ]
  },
  {
   "cell_type": "code",
   "execution_count": 14,
   "metadata": {},
   "outputs": [
    {
     "data": {
      "text/plain": [
       "(2248884, 6)"
      ]
     },
     "execution_count": 14,
     "metadata": {},
     "output_type": "execute_result"
    }
   ],
   "source": [
    "data.shape"
   ]
  },
  {
   "cell_type": "code",
   "execution_count": 15,
   "metadata": {},
   "outputs": [
    {
     "data": {
      "text/plain": [
       "<bound method DataFrame.info of          date store_id  category_id    target  onpromotion  \\\n",
       "0         365  store_1  category_24     0.000            0   \n",
       "1         365  store_1  category_21     0.000            0   \n",
       "2         365  store_1  category_32     0.000            0   \n",
       "3         365  store_1  category_18     0.000            0   \n",
       "4         365  store_1  category_26     0.000            0   \n",
       "...       ...      ...          ...       ...          ...   \n",
       "2248879  1626  store_9  category_23   539.725            0   \n",
       "2248880  1626  store_9  category_20    84.177            0   \n",
       "2248881  1626  store_9  category_15  1973.760            3   \n",
       "2248882  1626  store_9  category_29     2.000            0   \n",
       "2248883  1626  store_9  category_10    27.076            0   \n",
       "\n",
       "         nbr_of_transactions  \n",
       "0                        0.0  \n",
       "1                        0.0  \n",
       "2                        0.0  \n",
       "3                        0.0  \n",
       "4                        0.0  \n",
       "...                      ...  \n",
       "2248879               2141.0  \n",
       "2248880               2141.0  \n",
       "2248881               2141.0  \n",
       "2248882               2141.0  \n",
       "2248883               2141.0  \n",
       "\n",
       "[2248884 rows x 6 columns]>"
      ]
     },
     "execution_count": 15,
     "metadata": {},
     "output_type": "execute_result"
    }
   ],
   "source": [
    "data.info"
   ]
  },
  {
   "cell_type": "code",
   "execution_count": 16,
   "metadata": {},
   "outputs": [
    {
     "data": {
      "text/plain": [
       "date                   0\n",
       "store_id               0\n",
       "category_id            0\n",
       "target                 0\n",
       "onpromotion            0\n",
       "nbr_of_transactions    0\n",
       "dtype: int64"
      ]
     },
     "execution_count": 16,
     "metadata": {},
     "output_type": "execute_result"
    }
   ],
   "source": [
    "data.isna().sum()"
   ]
  },
  {
   "cell_type": "code",
   "execution_count": 17,
   "metadata": {},
   "outputs": [
    {
     "name": "stdout",
     "output_type": "stream",
     "text": [
      "Columns Names: ['date', 'store_id', 'category_id', 'target', 'onpromotion', 'nbr_of_transactions']\n"
     ]
    }
   ],
   "source": [
    "print(f'Columns Names: {list(data.columns)}')"
   ]
  },
  {
   "cell_type": "code",
   "execution_count": null,
   "metadata": {},
   "outputs": [],
   "source": [
    " = pd.read_csv('../Assets/train.csv')"
   ]
  }
 ],
 "metadata": {
  "kernelspec": {
   "display_name": ".venv",
   "language": "python",
   "name": "python3"
  },
  "language_info": {
   "codemirror_mode": {
    "name": "ipython",
    "version": 3
   },
   "file_extension": ".py",
   "mimetype": "text/x-python",
   "name": "python",
   "nbconvert_exporter": "python",
   "pygments_lexer": "ipython3",
   "version": "3.11.4"
  }
 },
 "nbformat": 4,
 "nbformat_minor": 2
}
